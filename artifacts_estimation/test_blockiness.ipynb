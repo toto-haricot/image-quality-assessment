{
 "cells": [
  {
   "cell_type": "code",
   "execution_count": 1,
   "id": "e7d53925",
   "metadata": {},
   "outputs": [],
   "source": [
    "import os\n",
    "import math\n",
    "import scipy\n",
    "\n",
    "import numpy as np\n",
    "import matplotlib.pyplot as plt\n",
    "\n",
    "import blockiness"
   ]
  },
  {
   "cell_type": "code",
   "execution_count": 2,
   "id": "eb31c815",
   "metadata": {},
   "outputs": [],
   "source": [
    "from mpl_toolkits.mplot3d import Axes3D\n",
    "from scipy.fft import fft, fftfreq\n",
    "from blockiness import *"
   ]
  },
  {
   "cell_type": "code",
   "execution_count": 3,
   "id": "cdc62383",
   "metadata": {},
   "outputs": [
    {
     "data": {
      "text/plain": [
       "(512, 512)"
      ]
     },
     "execution_count": 3,
     "metadata": {},
     "output_type": "execute_result"
    }
   ],
   "source": [
    "# baboon = plt.imread('/Users/thomaswaldura/Documents/github/images_utils/datasets/classic5/baboon.png')[:,:,0]\n",
    "\n",
    "rafting = plt.imread('/Users/thomaswaldura/Documents/datasets/LIVE/all_images_png/img79.png')[:,:,0]\n",
    "\n",
    "rafting = rafting[:,:512]\n",
    "\n",
    "rafting.shape"
   ]
  },
  {
   "cell_type": "code",
   "execution_count": 4,
   "id": "ba0f4088",
   "metadata": {},
   "outputs": [
    {
     "data": {
      "text/plain": [
       "(262144,)"
      ]
     },
     "execution_count": 4,
     "metadata": {},
     "output_type": "execute_result"
    }
   ],
   "source": [
    "blockiness.to_1d_signal(rafting, axis=0).shape"
   ]
  },
  {
   "cell_type": "code",
   "execution_count": 5,
   "id": "5cfd06fe",
   "metadata": {},
   "outputs": [],
   "source": [
    "segments = blockiness.make_segments(blockiness.to_1d_signal(rafting, axis=0), N=256, n_0=0, step=4)"
   ]
  },
  {
   "cell_type": "code",
   "execution_count": 6,
   "id": "486a8cd1",
   "metadata": {},
   "outputs": [
    {
     "data": {
      "text/plain": [
       "65472"
      ]
     },
     "execution_count": 6,
     "metadata": {},
     "output_type": "execute_result"
    }
   ],
   "source": [
    "len(segments)"
   ]
  },
  {
   "cell_type": "code",
   "execution_count": 7,
   "id": "a22cb89f",
   "metadata": {},
   "outputs": [],
   "source": [
    "X_k = [blockiness.fast_fourier_transform(s) for s in segments]\n",
    "\n",
    "P_k = [blockiness.power_spectrum(X_i) for X_i in X_k]\n",
    "\n",
    "P = blockiness.overall_estimated_ps(P_k)\n",
    "\n",
    "P = np.array(P)"
   ]
  },
  {
   "cell_type": "code",
   "execution_count": 8,
   "id": "fc91979d",
   "metadata": {
    "scrolled": true
   },
   "outputs": [],
   "source": [
    "#power = np.log10(1+P)\n",
    "\n",
    "#frequency = np.arange(len(P))/256\n",
    "\n",
    "#plt.plot(frequency, power)\n",
    "#plt.ylim(0,.8)\n",
    "#plt.show()"
   ]
  },
  {
   "cell_type": "code",
   "execution_count": 9,
   "id": "24939449",
   "metadata": {},
   "outputs": [],
   "source": [
    "P_m = blockiness.median_smoothing(P)"
   ]
  },
  {
   "cell_type": "code",
   "execution_count": 10,
   "id": "1bc95e91",
   "metadata": {},
   "outputs": [
    {
     "name": "stdout",
     "output_type": "stream",
     "text": [
      "[32.0, 64.0, 96.0, 128.0]\n",
      "32\n",
      "64\n",
      "96\n",
      "128\n"
     ]
    }
   ],
   "source": [
    "M_bv = blocking_measure(P, P_m)"
   ]
  },
  {
   "cell_type": "code",
   "execution_count": 11,
   "id": "9b362b80",
   "metadata": {},
   "outputs": [
    {
     "name": "stdout",
     "output_type": "stream",
     "text": [
      "0.44719856086637316\n"
     ]
    }
   ],
   "source": [
    "print(M_bv)"
   ]
  }
 ],
 "metadata": {
  "kernelspec": {
   "display_name": "image_restoration2",
   "language": "python",
   "name": "image_restoration2"
  },
  "language_info": {
   "codemirror_mode": {
    "name": "ipython",
    "version": 3
   },
   "file_extension": ".py",
   "mimetype": "text/x-python",
   "name": "python",
   "nbconvert_exporter": "python",
   "pygments_lexer": "ipython3",
   "version": "3.9.7"
  }
 },
 "nbformat": 4,
 "nbformat_minor": 5
}
